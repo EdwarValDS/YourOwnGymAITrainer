{
 "cells": [
  {
   "cell_type": "markdown",
   "id": "22737b7f",
   "metadata": {},
   "source": [
    "# 0. Libraries"
   ]
  },
  {
   "cell_type": "code",
   "execution_count": 1,
   "id": "925b0578",
   "metadata": {},
   "outputs": [],
   "source": [
    "import cv2 # opencv\n",
    "import mediapipe as mp\n",
    "import numpy as np\n",
    "mp_drawing = mp.solutions.drawing_utils # drawing utilities\n",
    "mp_pose = mp.solutions.pose # pose estimation model"
   ]
  },
  {
   "cell_type": "code",
   "execution_count": 2,
   "id": "f802e819",
   "metadata": {},
   "outputs": [],
   "source": [
    "# Video feed\n",
    "cap = cv2.VideoCapture(0) # This allow to use any camera connected. Number represents the camera\n",
    "while cap.isOpened():\n",
    "    ret, frame = cap.read() # frame is for each image captured\n",
    "    cv2.imshow(\"Mediapipe Feed\", frame) # Show the image captured\n",
    "\n",
    "    if cv2.waitKey(10) & 0xFF == ord(\"q\"): # Press q to close video\n",
    "        break\n",
    "\n",
    "cap.release()\n",
    "cv2.destroyAllWindows()"
   ]
  },
  {
   "cell_type": "markdown",
   "id": "6656efb1",
   "metadata": {},
   "source": [
    "# 1. Make Detections"
   ]
  },
  {
   "cell_type": "code",
   "execution_count": null,
   "id": "624c80db",
   "metadata": {},
   "outputs": [],
   "source": [
    "# Video feed\n",
    "cap = cv2.VideoCapture(0) # This allow to use any camera connected. Number represents the camera\n",
    "\n",
    "# Setup meediapipe instance\n",
    "# Accuracy level. Higher score higher confidence required for detection\n",
    "with mp_pose.Pose(min_detection_confidence=0.5, min_tracking_confidence=0.5) as pose:\n",
    "\n",
    "    while cap.isOpened():\n",
    "        ret, frame = cap.read() # frame is for each image captured\n",
    "\n",
    "        # Recolor image to RGB\n",
    "        image = cv2.cvtColor(frame, cv2.COLOR_BGR2RGB)\n",
    "        image.flags.writeable = False # To improve performance\n",
    "\n",
    "        # Make detection\n",
    "        results = pose.process(image)\n",
    "\n",
    "        # Recolor back to BGR\n",
    "        image.flags.writeable = True\n",
    "        image = cv2.cvtColor(image, cv2.COLOR_RGB2BGR)\n",
    "\n",
    "        # Render detections\n",
    "        # results.pose_landmarks shows the position each individual point of the body\n",
    "        # mp_pose.POSE_CONNECTIONS shows the connections between each individual point of the body\n",
    "        mp_drawing.draw_landmarks(image, results.pose_landmarks, mp_pose.POSE_CONNECTIONS,\n",
    "                                  mp_drawing.DrawingSpec(color=(245,117,66), thickness=2, circle_radius=2),\n",
    "                                  mp_drawing.DrawingSpec(color=(245,66,230), thickness=2, circle_radius=2)\n",
    "                                  )\n",
    "\n",
    "        #print(results)\n",
    "\n",
    "\n",
    "        cv2.imshow(\"Mediapipe Feed\", image) # Show the image captured\n",
    "\n",
    "        if cv2.waitKey(10) & 0xFF == ord(\"q\"): # Press q to close video\n",
    "            break\n",
    "\n",
    "    cap.release()\n",
    "    cv2.destroyAllWindows()"
   ]
  },
  {
   "cell_type": "markdown",
   "id": "08e56400",
   "metadata": {},
   "source": [
    "# 2. Determining Joints\n",
    "\n",
    "<img src=\"https://i.imgur.com/3j8BPdc.png\" style=\"height:350px\">"
   ]
  },
  {
   "cell_type": "code",
   "execution_count": 9,
   "id": "6c290684",
   "metadata": {},
   "outputs": [],
   "source": [
    "# Video feed\n",
    "cap = cv2.VideoCapture(0) # This allow to use any camera connected. Number represents the camera\n",
    "\n",
    "# Setup meediapipe instance\n",
    "# Accuracy level. Higher score higher confidence required for detection\n",
    "with mp_pose.Pose(min_detection_confidence=0.5, min_tracking_confidence=0.5) as pose:\n",
    "\n",
    "    while cap.isOpened():\n",
    "        ret, frame = cap.read() # frame is for each image captured\n",
    "\n",
    "        # Recolor image to RGB\n",
    "        image = cv2.cvtColor(frame, cv2.COLOR_BGR2RGB)\n",
    "        image.flags.writeable = False # To improve performance\n",
    "\n",
    "        # Make detection\n",
    "        results = pose.process(image)\n",
    "\n",
    "        # Recolor back to BGR\n",
    "        image.flags.writeable = True\n",
    "        image = cv2.cvtColor(image, cv2.COLOR_RGB2BGR)\n",
    "\n",
    "        # Extract landmarks\n",
    "        try: # try because sometimes it could not be detected\n",
    "            landmarks = results.pose_landmarks.landmark\n",
    "            #print(landmarks)\n",
    "        except:\n",
    "            pass\n",
    "\n",
    "        # Render detections\n",
    "        # results.pose_landmarks shows the position each individual point of the body\n",
    "        # mp_pose.POSE_CONNECTIONS shows the connections between each individual point of the body\n",
    "        mp_drawing.draw_landmarks(image, results.pose_landmarks, mp_pose.POSE_CONNECTIONS,\n",
    "                                  mp_drawing.DrawingSpec(color=(245,117,66), thickness=2, circle_radius=2),\n",
    "                                  mp_drawing.DrawingSpec(color=(245,66,230), thickness=2, circle_radius=2)\n",
    "                                  )\n",
    "\n",
    "        #print(results)\n",
    "\n",
    "\n",
    "        cv2.imshow(\"Mediapipe Feed\", image) # Show the image captured\n",
    "\n",
    "        if cv2.waitKey(10) & 0xFF == ord(\"q\"): # Press q to close video\n",
    "            break\n",
    "\n",
    "    cap.release()\n",
    "    cv2.destroyAllWindows()"
   ]
  },
  {
   "cell_type": "code",
   "execution_count": null,
   "id": "9915827a",
   "metadata": {},
   "outputs": [
    {
     "data": {
      "text/plain": [
       "33"
      ]
     },
     "execution_count": 13,
     "metadata": {},
     "output_type": "execute_result"
    }
   ],
   "source": [
    "for landmark in mp_pose.PoseLandmark:\n",
    "    print(landmark.name, landmark.value)"
   ]
  },
  {
   "cell_type": "code",
   "execution_count": null,
   "id": "d614524b",
   "metadata": {},
   "outputs": [],
   "source": [
    "mp_pose.PoseLandmark.LEFT_SHOULDER"
   ]
  },
  {
   "cell_type": "code",
   "execution_count": 10,
   "id": "8c880635",
   "metadata": {},
   "outputs": [
    {
     "data": {
      "text/plain": [
       "x: 0.179282799\n",
       "y: 0.525727689\n",
       "z: -1.49277699\n",
       "visibility: 0.997917891"
      ]
     },
     "execution_count": 10,
     "metadata": {},
     "output_type": "execute_result"
    }
   ],
   "source": [
    "landmarks[mp_pose.PoseLandmark.LEFT_SHOULDER.value]\n"
   ]
  },
  {
   "cell_type": "code",
   "execution_count": 31,
   "id": "760b9730",
   "metadata": {},
   "outputs": [
    {
     "data": {
      "text/plain": [
       "x: 1.168347\n",
       "y: 1.45901144\n",
       "z: -0.679086089\n",
       "visibility: 0.0602062382"
      ]
     },
     "execution_count": 31,
     "metadata": {},
     "output_type": "execute_result"
    }
   ],
   "source": [
    "landmarks[mp_pose.PoseLandmark.LEFT_ELBOW.value]"
   ]
  },
  {
   "cell_type": "code",
   "execution_count": 32,
   "id": "379faca6",
   "metadata": {},
   "outputs": [
    {
     "data": {
      "text/plain": [
       "x: 1.08796525\n",
       "y: 1.92019498\n",
       "z: -1.19966304\n",
       "visibility: 0.011106573"
      ]
     },
     "execution_count": 32,
     "metadata": {},
     "output_type": "execute_result"
    }
   ],
   "source": [
    "landmarks[mp_pose.PoseLandmark.LEFT_WRIST.value]"
   ]
  },
  {
   "cell_type": "markdown",
   "id": "b9e75c06",
   "metadata": {},
   "source": [
    "# 3. Calculate Angles for bicep curl"
   ]
  },
  {
   "cell_type": "code",
   "execution_count": 11,
   "id": "fdef0cde",
   "metadata": {},
   "outputs": [],
   "source": [
    "# This function calculates angle between three points of any body\n",
    "def calculate_angle(a,b,c):\n",
    "\n",
    "    # remember that each point has X,Y,Z values ([0],[1],[2])\n",
    "    a = np.array(a) # First (shoulder in this case)\n",
    "    b = np.array(b) # Mid (elbow in this case)\n",
    "    c = np.array(c) # End (wrist in this case)\n",
    "\n",
    "    radians = np.arctan2(c[1]-b[1], c[0]-b[0]) - np.arctan2(a[1]-b[1], a[0]-b[0])\n",
    "    angle = np.abs(radians*180.0/np.pi)\n",
    "\n",
    "    if angle > 180.0: # Angle between 0 and 180 (max angle of an arm is 180 actually)\n",
    "        angle = 360-angle\n",
    "\n",
    "    return angle"
   ]
  },
  {
   "cell_type": "code",
   "execution_count": 12,
   "id": "310ac29f",
   "metadata": {},
   "outputs": [
    {
     "data": {
      "text/plain": [
       "156.69158877974522"
      ]
     },
     "execution_count": 12,
     "metadata": {},
     "output_type": "execute_result"
    }
   ],
   "source": [
    "shoulder = [landmarks[mp_pose.PoseLandmark.LEFT_SHOULDER.value].x,\n",
    "            landmarks[mp_pose.PoseLandmark.LEFT_SHOULDER.value].y]\n",
    "elbow = [landmarks[mp_pose.PoseLandmark.LEFT_ELBOW.value].x,\n",
    "         landmarks[mp_pose.PoseLandmark.LEFT_ELBOW.value].y]\n",
    "wrist = [landmarks[mp_pose.PoseLandmark.LEFT_WRIST.value].x,\n",
    "         landmarks[mp_pose.PoseLandmark.LEFT_WRIST.value].y]\n",
    "\n",
    "calculate_angle(shoulder, elbow, wrist)"
   ]
  },
  {
   "cell_type": "code",
   "execution_count": 16,
   "id": "930c442d",
   "metadata": {},
   "outputs": [],
   "source": [
    "# Video feed\n",
    "cap = cv2.VideoCapture(0) # This allow to use any camera connected. Number represents the camera\n",
    "\n",
    "# Setup meediapipe instance\n",
    "# Accuracy level. Higher score higher confidence required for detection\n",
    "with mp_pose.Pose(min_detection_confidence=0.5, min_tracking_confidence=0.5) as pose:\n",
    "\n",
    "    while cap.isOpened():\n",
    "        ret, frame = cap.read() # frame is for each image captured\n",
    "\n",
    "        # Recolor image to RGB\n",
    "        image = cv2.cvtColor(frame, cv2.COLOR_BGR2RGB)\n",
    "        image.flags.writeable = False # To improve performance\n",
    "\n",
    "        # Make detection\n",
    "        results = pose.process(image)\n",
    "\n",
    "        # Recolor back to BGR\n",
    "        image.flags.writeable = True\n",
    "        image = cv2.cvtColor(image, cv2.COLOR_RGB2BGR)\n",
    "\n",
    "        # Extract landmarks\n",
    "        try: # try because sometimes it could not be detected\n",
    "            landmarks = results.pose_landmarks.landmark\n",
    "\n",
    "            # Get coordinates\n",
    "            shoulder = [landmarks[mp_pose.PoseLandmark.LEFT_SHOULDER.value].x,\n",
    "                        landmarks[mp_pose.PoseLandmark.LEFT_SHOULDER.value].y]\n",
    "            elbow = [landmarks[mp_pose.PoseLandmark.LEFT_ELBOW.value].x,\n",
    "                     landmarks[mp_pose.PoseLandmark.LEFT_ELBOW.value].y]\n",
    "            wrist = [landmarks[mp_pose.PoseLandmark.LEFT_WRIST.value].x,\n",
    "                     landmarks[mp_pose.PoseLandmark.LEFT_WRIST.value].y]\n",
    "            \n",
    "            # Calculate angle\n",
    "            angle = calculate_angle(shoulder, elbow, wrist)\n",
    "            angle = (angle).round(2)\n",
    "\n",
    "            # Visualize angle\n",
    "            cv2.putText(image, str(angle),\n",
    "                        # Set position of angle text\n",
    "                        # 640 and 480 are the width and height of the camera image\n",
    "                        tuple(np.multiply(elbow, [640, 480]).astype(int)),\n",
    "                        cv2.FONT_HERSHEY_SIMPLEX, 0.5, (255, 255, 255), 2, cv2.LINE_AA # Text and line style\n",
    "                        )\n",
    "\n",
    "\n",
    "        except:\n",
    "            pass\n",
    "\n",
    "        # Render detections\n",
    "        # results.pose_landmarks shows the position each individual point of the body\n",
    "        # mp_pose.POSE_CONNECTIONS shows the connections between each individual point of the body\n",
    "        mp_drawing.draw_landmarks(image, results.pose_landmarks, mp_pose.POSE_CONNECTIONS,\n",
    "                                  mp_drawing.DrawingSpec(color=(245,117,66), thickness=2, circle_radius=2),\n",
    "                                  mp_drawing.DrawingSpec(color=(245,66,230), thickness=2, circle_radius=2)\n",
    "                                  )\n",
    "\n",
    "        #print(results)\n",
    "\n",
    "\n",
    "        cv2.imshow(\"Mediapipe Feed\", image) # Show the image captured\n",
    "\n",
    "        if cv2.waitKey(10) & 0xFF == ord(\"q\"): # Press q to close video\n",
    "            break\n",
    "\n",
    "    cap.release()\n",
    "    cv2.destroyAllWindows()"
   ]
  },
  {
   "cell_type": "markdown",
   "id": "3c80498a",
   "metadata": {},
   "source": [
    "# 4. Curl Counter"
   ]
  },
  {
   "cell_type": "code",
   "execution_count": null,
   "id": "7f5f89a4",
   "metadata": {},
   "outputs": [],
   "source": [
    "# Video feed\n",
    "cap = cv2.VideoCapture(0) # This allow to use any camera connected. Number represents the camera\n",
    "\n",
    "# Curl counter variables\n",
    "counter = 0\n",
    "stage = None # \"up\" or \"down\" part of the curl\n",
    "\n",
    "\n",
    "# Setup meediapipe instance\n",
    "# Accuracy level. Higher score higher confidence required for detection\n",
    "with mp_pose.Pose(min_detection_confidence=0.5, min_tracking_confidence=0.5) as pose:\n",
    "\n",
    "    while cap.isOpened():\n",
    "        ret, frame = cap.read() # frame is for each image captured\n",
    "\n",
    "        # Recolor image to RGB\n",
    "        image = cv2.cvtColor(frame, cv2.COLOR_BGR2RGB)\n",
    "        image.flags.writeable = False # To improve performance\n",
    "\n",
    "        # Make detection\n",
    "        results = pose.process(image)\n",
    "\n",
    "        # Recolor back to BGR\n",
    "        image.flags.writeable = True\n",
    "        image = cv2.cvtColor(image, cv2.COLOR_RGB2BGR)\n",
    "\n",
    "        # Extract landmarks\n",
    "        try: # try because sometimes it could not be detected\n",
    "            landmarks = results.pose_landmarks.landmark\n",
    "\n",
    "            # Get coordinates\n",
    "            shoulder = [landmarks[mp_pose.PoseLandmark.LEFT_SHOULDER.value].x,\n",
    "                        landmarks[mp_pose.PoseLandmark.LEFT_SHOULDER.value].y]\n",
    "            elbow = [landmarks[mp_pose.PoseLandmark.LEFT_ELBOW.value].x,\n",
    "                     landmarks[mp_pose.PoseLandmark.LEFT_ELBOW.value].y]\n",
    "            wrist = [landmarks[mp_pose.PoseLandmark.LEFT_WRIST.value].x,\n",
    "                     landmarks[mp_pose.PoseLandmark.LEFT_WRIST.value].y]\n",
    "            \n",
    "            # Calculate angle\n",
    "            angle = calculate_angle(shoulder, elbow, wrist)\n",
    "            angle = (angle).round(2)\n",
    "\n",
    "            # Visualize angle\n",
    "            cv2.putText(image, str(angle),\n",
    "                        # Set position of angle text\n",
    "                        # 640 and 480 are the width and height of the camera image\n",
    "                        tuple(np.multiply(elbow, [640, 480]).astype(int)),\n",
    "                        cv2.FONT_HERSHEY_SIMPLEX, 0.5, (255, 255, 255), 2, cv2.LINE_AA # Text and line style\n",
    "                        )\n",
    "            \n",
    "            # Curl counter logic\n",
    "            if angle > 160:\n",
    "                stage = \"down\"\n",
    "            if angle < 30 and stage == \"down\":\n",
    "                stage = \"up\"\n",
    "                counter += 1\n",
    "                print(counter)\n",
    "\n",
    "        except:\n",
    "            pass\n",
    "\n",
    "        # Render curl counter\n",
    "\n",
    "        # Setup status box\n",
    "        cv2.rectangle(image, (0,0), (225,73), (245,117,16), -1)\n",
    "\n",
    "        # Rep data\n",
    "        cv2.putText(image, 'REPS', (15,12),\n",
    "                    cv2.FONT_HERSHEY_SIMPLEX, 0.5, (0,0,0), 1, cv2.LINE_AA)\n",
    "        cv2.putText(image, str(counter),\n",
    "                    (10,60), cv2.FONT_HERSHEY_SIMPLEX, 2, (255,255,255), 2, cv2.LINE_AA)\n",
    "        \n",
    "        # Stage data\n",
    "        cv2.putText(image, 'STAGE', (65,12),\n",
    "                    cv2.FONT_HERSHEY_SIMPLEX, 0.5, (0,0,0), 1, cv2.LINE_AA)\n",
    "        cv2.putText(image, str(stage),\n",
    "                    (60,60), cv2.FONT_HERSHEY_SIMPLEX, 2, (255,255,255), 2, cv2.LINE_AA)\n",
    "        \n",
    "\n",
    "\n",
    "        # Render detections\n",
    "        # results.pose_landmarks shows the position each individual point of the body\n",
    "        # mp_pose.POSE_CONNECTIONS shows the connections between each individual point of the body\n",
    "        mp_drawing.draw_landmarks(image, results.pose_landmarks, mp_pose.POSE_CONNECTIONS,\n",
    "                                  mp_drawing.DrawingSpec(color=(245,117,66), thickness=2, circle_radius=2),\n",
    "                                  mp_drawing.DrawingSpec(color=(245,66,230), thickness=2, circle_radius=2)\n",
    "                                  )\n",
    "\n",
    "        #print(results)\n",
    "\n",
    "\n",
    "        cv2.imshow(\"Mediapipe Feed\", image) # Show the image captured\n",
    "\n",
    "        if cv2.waitKey(10) & 0xFF == ord(\"q\"): # Press q to close video\n",
    "            break\n",
    "\n",
    "    cap.release()\n",
    "    cv2.destroyAllWindows()"
   ]
  },
  {
   "cell_type": "markdown",
   "id": "5c3376ed",
   "metadata": {},
   "source": [
    "# Siguiente paso\n",
    "\n",
    "Probar lo anterior en Streamlit"
   ]
  }
 ],
 "metadata": {
  "kernelspec": {
   "display_name": "Python 3",
   "language": "python",
   "name": "python3"
  },
  "language_info": {
   "codemirror_mode": {
    "name": "ipython",
    "version": 3
   },
   "file_extension": ".py",
   "mimetype": "text/x-python",
   "name": "python",
   "nbconvert_exporter": "python",
   "pygments_lexer": "ipython3",
   "version": "3.11.0"
  }
 },
 "nbformat": 4,
 "nbformat_minor": 5
}
